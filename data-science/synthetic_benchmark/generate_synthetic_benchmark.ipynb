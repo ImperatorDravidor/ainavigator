{
 "cells": [
  {
   "cell_type": "code",
   "execution_count": 5,
   "id": "7da6e7e4-abda-4cf0-b9d6-af11b54fb09f",
   "metadata": {},
   "outputs": [],
   "source": [
    "# --- AI Navigator Synthetic Benchmark Generator (Milestone 1) ---\n",
    "# Fully aligned with /api/benchmark and heatmap expectations\n",
    "\n",
    "import pandas as pd\n",
    "import numpy as np\n",
    "from scipy.stats import truncnorm\n",
    "import json, os, datetime\n",
    "\n",
    "np.random.seed(42)\n",
    "\n",
    "# 1) Structure\n",
    "dimensions = [\n",
    "    \"Strategy and Vision\", \"Data\", \"Technology\", \"Talent and Skills\",\n",
    "    \"Organisation and Processes\", \"Innovation\",\n",
    "    \"Adaptation & Adoption\", \"Ethics and Responsibility\"\n",
    "]\n",
    "constructs_per_dim = 4\n",
    "out_dir = \"public/demo_data\"\n",
    "os.makedirs(out_dir, exist_ok=True)\n",
    "\n",
    "def bounded_normal(mean, sd, low=0, high=100, n=1):\n",
    "    a, b = (low - mean) / sd, (high - mean) / sd\n",
    "    return truncnorm(a, b, loc=mean, scale=sd).rvs(n)[0]\n",
    "\n",
    "# 2) Capability benchmark (flat table)\n",
    "rows = []\n",
    "for d in dimensions:\n",
    "    for i in range(1, constructs_per_dim+1):\n",
    "        mean = np.random.uniform(55, 85)\n",
    "        sd = np.random.uniform(5, 15)\n",
    "        rows.append({\n",
    "            \"dimension\": d,\n",
    "            \"construct\": f\"{d} Construct {i}\",\n",
    "            \"benchmark_mean\": round(mean, 1),\n",
    "            \"benchmark_min\": round(max(0, mean - 2*sd), 1),\n",
    "            \"benchmark_max\": round(min(100, mean + 2*sd), 1)\n",
    "        })\n",
    "cap_df = pd.DataFrame(rows)\n",
    "cap_df.to_csv(f\"{out_dir}/sample_capability.csv\", index=False)\n",
    "\n",
    "# 3) Capability benchmark (API-friendly nested JSON)\n",
    "api_payload = {\n",
    "    \"benchmark_name\": \"Synthetic OECD Benchmark\",\n",
    "    \"benchmark_type\": \"synthetic\",\n",
    "    \"created_at\": datetime.date.today().strftime(\"%Y-%m-%d\"),\n",
    "    \"data\": [\n",
    "        {\n",
    "            \"dimension\": d,\n",
    "            \"constructs\": cap_df[cap_df[\"dimension\"]==d][\n",
    "                [\"construct\",\"benchmark_mean\",\"benchmark_min\",\"benchmark_max\"]\n",
    "            ].to_dict(orient=\"records\")\n",
    "        }\n",
    "        for d in dimensions\n",
    "    ]\n",
    "}\n",
    "with open(f\"{out_dir}/benchmark.json\",\"w\") as f:\n",
    "    json.dump(api_payload, f, indent=2)\n",
    "\n",
    "# 4) Sentiment benchmark (25 zones)\n",
    "sentiment_df = pd.DataFrame({\n",
    "    \"area_id\": range(1, 26),\n",
    "    \"area_name\": [f\"Sentiment Area {i}\" for i in range(1, 26)],\n",
    "    \"sentiment_score\": np.random.randint(40, 90, size=25),\n",
    "    \"benchmark_type\": \"synthetic\"\n",
    "})\n",
    "sentiment_df.to_csv(f\"{out_dir}/sample_sentiment.csv\", index=False)"
   ]
  },
  {
   "cell_type": "code",
   "execution_count": 6,
   "id": "6748eb6b-92c1-4a98-9812-2556d4c10b58",
   "metadata": {},
   "outputs": [
    {
     "name": "stdout",
     "output_type": "stream",
     "text": [
      "Created: sentiment_preview.json\n"
     ]
    }
   ],
   "source": [
    "# Milestone 2 — Sentiment Flow & Visualization (support)\n",
    "\n",
    "sentiment_preview = sentiment_df.to_dict(orient=\"records\")\n",
    "with open(\"public/demo_data/sentiment_preview.json\",\"w\") as f:\n",
    "    json.dump(sentiment_preview, f, indent=2)\n",
    "print(\"Created: sentiment_preview.json\")"
   ]
  },
  {
   "cell_type": "code",
   "execution_count": 7,
   "id": "79bbb034-3b6b-4dfb-925e-ccede8d4e076",
   "metadata": {},
   "outputs": [
    {
     "name": "stdout",
     "output_type": "stream",
     "text": [
      "Created: dimension_benchmark.json\n"
     ]
    }
   ],
   "source": [
    "# Milestone 3 — Capability Flow & Advanced Features (benchmarking logic)\n",
    "\n",
    "dim_summary = (cap_df\n",
    "               .groupby(\"dimension\", as_index=False)[\"benchmark_mean\"]\n",
    "               .mean()\n",
    "               .rename(columns={\"benchmark_mean\":\"dimension_benchmark_mean\"}))\n",
    "dim_summary.to_json(\"public/demo_data/dimension_benchmark.json\",\n",
    "                    orient=\"records\", indent=2)\n",
    "print(\"Created: dimension_benchmark.json\")"
   ]
  },
  {
   "cell_type": "code",
   "execution_count": 8,
   "id": "07a177f5-628d-4fe4-9bdc-039da8212a02",
   "metadata": {},
   "outputs": [
    {
     "name": "stdout",
     "output_type": "stream",
     "text": [
      "Created: gap_examples.csv\n"
     ]
    }
   ],
   "source": [
    "# Simulate a user's actual scores to verify gap = actual - benchmark_mean\n",
    "actual = cap_df.copy()\n",
    "actual[\"actual_score\"] = np.clip(\n",
    "    actual[\"benchmark_mean\"] + np.random.normal(0, 8, size=len(actual)), 0, 100\n",
    ")\n",
    "actual[\"gap\"] = (actual[\"actual_score\"] - actual[\"benchmark_mean\"]).round(1)\n",
    "actual[[\"dimension\",\"construct\",\"benchmark_mean\",\"actual_score\",\"gap\"]].to_csv(\n",
    "    \"public/demo_data/gap_examples.csv\", index=False\n",
    ")\n",
    "print(\"Created: gap_examples.csv\")"
   ]
  },
  {
   "cell_type": "code",
   "execution_count": 9,
   "id": "2ba7d742-d049-4c5a-b21a-17831cf5b768",
   "metadata": {},
   "outputs": [
    {
     "name": "stdout",
     "output_type": "stream",
     "text": [
      "Created: benchmark_region_eu.json, benchmark_region_na.json\n"
     ]
    }
   ],
   "source": [
    "# (Optional) Two regional benchmarks for demo switches\n",
    "# public/demo_data/benchmark_region_eu.json\n",
    "# public/demo_data/benchmark_region_na.json\n",
    "\n",
    "def vary_benchmark(df, delta_mean):\n",
    "    out = df.copy()\n",
    "    out[\"benchmark_mean\"] = np.clip(out[\"benchmark_mean\"] + delta_mean, 0, 100)\n",
    "    return out\n",
    "\n",
    "def make_api_json_from_capdf(df):\n",
    "    return {\n",
    "        \"benchmark_name\": \"Synthetic OECD Benchmark (Variant)\",\n",
    "        \"benchmark_type\": \"synthetic\",\n",
    "        \"created_at\": datetime.date.today().strftime(\"%Y-%m-%d\"),\n",
    "        \"data\": [\n",
    "            {\n",
    "                \"dimension\": d,\n",
    "                \"constructs\": df[df[\"dimension\"]==d][\n",
    "                    [\"construct\",\"benchmark_mean\",\"benchmark_min\",\"benchmark_max\"]\n",
    "                ].to_dict(orient=\"records\")\n",
    "            }\n",
    "            for d in df[\"dimension\"].unique()\n",
    "        ]\n",
    "    }\n",
    "\n",
    "eu_df = vary_benchmark(cap_df, +2.0)\n",
    "na_df = vary_benchmark(cap_df, -2.0)\n",
    "\n",
    "with open(\"public/demo_data/benchmark_region_eu.json\",\"w\") as f:\n",
    "    json.dump(make_api_json_from_capdf(eu_df), f, indent=2)\n",
    "with open(\"public/demo_data/benchmark_region_na.json\",\"w\") as f:\n",
    "    json.dump(make_api_json_from_capdf(na_df), f, indent=2)\n",
    "\n",
    "print(\"Created: benchmark_region_eu.json, benchmark_region_na.json\")"
   ]
  },
  {
   "cell_type": "code",
   "execution_count": 10,
   "id": "4fbecf89-c621-4a73-97ad-61d680f2c5de",
   "metadata": {},
   "outputs": [
    {
     "name": "stdout",
     "output_type": "stream",
     "text": [
      "Created: intervention_rules.json\n"
     ]
    }
   ],
   "source": [
    "# Milestone 4 — Interventions, ROI & Finalization\n",
    "\n",
    "# Intervention rules (thresholds for triggers)\n",
    "\n",
    "intervention_rules = [\n",
    "    {\"threshold\": 60, \"applies_to\": \"construct\", \"intervention\": \"Targeted Training\"},\n",
    "    {\"threshold\": 55, \"applies_to\": \"construct\", \"intervention\": \"Data Quality Uplift\"},\n",
    "    {\"threshold\": 65, \"applies_to\": \"dimension\", \"intervention\": \"Leadership Alignment\"}\n",
    "]\n",
    "with open(\"public/demo_data/intervention_rules.json\",\"w\") as f:\n",
    "    json.dump(intervention_rules, f, indent=2)\n",
    "print(\"Created: intervention_rules.json\")"
   ]
  },
  {
   "cell_type": "code",
   "execution_count": null,
   "id": "d0a5647c-e141-4f2f-a0dc-a0fc6ad37be3",
   "metadata": {},
   "outputs": [],
   "source": [
    "# ROI glimpse table (synthetic ranges)\n",
    "\n"
   ]
  }
 ],
 "metadata": {
  "kernelspec": {
   "display_name": "Python [conda env:base] *",
   "language": "python",
   "name": "conda-base-py"
  },
  "language_info": {
   "codemirror_mode": {
    "name": "ipython",
    "version": 3
   },
   "file_extension": ".py",
   "mimetype": "text/x-python",
   "name": "python",
   "nbconvert_exporter": "python",
   "pygments_lexer": "ipython3",
   "version": "3.12.7"
  }
 },
 "nbformat": 4,
 "nbformat_minor": 5
}
